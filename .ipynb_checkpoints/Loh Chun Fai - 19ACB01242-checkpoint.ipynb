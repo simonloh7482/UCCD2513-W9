{
 "cells": [
  {
   "cell_type": "markdown",
   "id": "a91761bd",
   "metadata": {},
   "source": [
    "# Setup"
   ]
  },
  {
   "cell_type": "code",
   "execution_count": 1,
   "id": "b2ce4534",
   "metadata": {
    "scrolled": true
   },
   "outputs": [
    {
     "data": {
      "text/plain": [
       "True"
      ]
     },
     "execution_count": 1,
     "metadata": {},
     "output_type": "execute_result"
    }
   ],
   "source": [
    "import sys\n",
    "# Python 3.7 is required\n",
    "assert sys.version_info >= (3,7)\n",
    "\n",
    "import cv2 as cv\n",
    "import numpy as np\n",
    "import matplotlib.pyplot as plt\n",
    "\n",
    "# Make sure that optimization is enabled\n",
    "if not cv.useOptimized():\n",
    "    cv.setUseOptimized(True)\n",
    "\n",
    "cv.useOptimized()"
   ]
  },
  {
   "cell_type": "markdown",
   "id": "96895ee9",
   "metadata": {},
   "source": [
    "1. Apply Hough transform (circular objects detection) and blob detection algorithm to detect coins present in image 'coins_1.jfif'. Comment on the outcomes of two methods."
   ]
  },
  {
   "cell_type": "markdown",
   "id": "e822b441",
   "metadata": {},
   "source": [
    "Hough transform"
   ]
  },
  {
   "cell_type": "code",
   "execution_count": 35,
   "id": "9bde16e5",
   "metadata": {},
   "outputs": [
    {
     "data": {
      "text/plain": [
       "-1"
      ]
     },
     "execution_count": 35,
     "metadata": {},
     "output_type": "execute_result"
    }
   ],
   "source": [
    "img = cv.imread('coins_1.jfif')\n",
    "\n",
    "#grayscale\n",
    "blur = cv.GaussianBlur(img, (5,5), 2)\n",
    "gray = cv.cvtColor(blur, cv.COLOR_BGR2GRAY)\n",
    "\n",
    "#Hough circle transform\n",
    "row = img.shape[0]\n",
    "circles = cv.HoughCircles(gray, cv.HOUGH_GRADIENT, 1, row/8, param1=150, param2=25)\n",
    "\n",
    "#draw the circles\n",
    "circles = np.uint8(np.around(circles))\n",
    "for i in circles[0]:\n",
    "    #draw both center and circles itself\n",
    "    center = (i[0], i[1])\n",
    "    cv.circle(img, center, 1, (100, 200, 0), 3)\n",
    "    #radius\n",
    "    radius = i[2]\n",
    "    cv.circle(img, center, radius, (0, 100, 255), 2)\n",
    "\n",
    "cv.imshow('coins', img)\n",
    "cv.waitKey(0)"
   ]
  },
  {
   "cell_type": "markdown",
   "id": "d867b406",
   "metadata": {},
   "source": [
    "Blob detection"
   ]
  },
  {
   "cell_type": "code",
   "execution_count": 34,
   "id": "66299634",
   "metadata": {},
   "outputs": [
    {
     "data": {
      "text/plain": [
       "-1"
      ]
     },
     "execution_count": 34,
     "metadata": {},
     "output_type": "execute_result"
    }
   ],
   "source": [
    "img = cv.imread('coins_1.jfif')\n",
    "blur = cv.medianBlur(img, 5)\n",
    "gray = cv.cvtColor(blur, cv.COLOR_BGR2GRAY)\n",
    "\n",
    "#parameter settings\n",
    "params = cv.SimpleBlobDetector_Params()\n",
    "params.minThreshold = 10\n",
    "params.maxThreshold = 125\n",
    "params.thresholdStep = 10\n",
    "params.filterByColor = True\n",
    "params.blobColor = 255\n",
    "params.filterByConvexity = False\n",
    "params.filterByInertia = False\n",
    "\n",
    "#detector\n",
    "detector = cv.SimpleBlobDetector_create(params)\n",
    "keypoints = detector.detect(gray)\n",
    "\n",
    "#draw the keypoints\n",
    "im_with_keypoints = cv.drawKeypoints(img, keypoints, np.array([]), (0,0,255), cv.DRAW_MATCHES_FLAGS_DRAW_RICH_KEYPOINTS)\n",
    "\n",
    "cv.imshow(\"blobs\", im_with_keypoints)\n",
    "cv.waitKey(0)\n"
   ]
  },
  {
   "cell_type": "markdown",
   "id": "8af87f75",
   "metadata": {},
   "source": [
    "## Comment"
   ]
  },
  {
   "cell_type": "markdown",
   "id": "566078d9",
   "metadata": {},
   "source": [
    "Both methods can detect the coins easily. Both need tuning of different parameters."
   ]
  },
  {
   "cell_type": "markdown",
   "id": "34c0a147",
   "metadata": {},
   "source": []
  },
  {
   "cell_type": "markdown",
   "id": "1c89f800",
   "metadata": {},
   "source": [
    "2. Apply k-means clustering on 'zebra.jfif' to segment out the zebra.\n",
    "    - You are required to determine the optimal k by plotting the within cluster sum of squares vs number of clusters (2-10).\n",
    "    - Apply the clustering method on 2 color space: BGR and HSV and compare the results obtained."
   ]
  },
  {
   "cell_type": "code",
   "execution_count": null,
   "id": "618f08d1",
   "metadata": {},
   "outputs": [],
   "source": []
  },
  {
   "cell_type": "code",
   "execution_count": null,
   "id": "f6f43c6a",
   "metadata": {},
   "outputs": [],
   "source": []
  },
  {
   "cell_type": "code",
   "execution_count": null,
   "id": "7c553b8a",
   "metadata": {},
   "outputs": [],
   "source": []
  },
  {
   "cell_type": "code",
   "execution_count": null,
   "id": "cd7022c9",
   "metadata": {},
   "outputs": [],
   "source": []
  }
 ],
 "metadata": {
  "kernelspec": {
   "display_name": "Python 3 (ipykernel)",
   "language": "python",
   "name": "python3"
  },
  "language_info": {
   "codemirror_mode": {
    "name": "ipython",
    "version": 3
   },
   "file_extension": ".py",
   "mimetype": "text/x-python",
   "name": "python",
   "nbconvert_exporter": "python",
   "pygments_lexer": "ipython3",
   "version": "3.9.12"
  }
 },
 "nbformat": 4,
 "nbformat_minor": 5
}
